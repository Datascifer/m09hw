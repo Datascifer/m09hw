{
 "cells": [
  {
   "cell_type": "markdown",
   "id": "779fd7e2-f7b8-4ab4-ae36-c315c1c9775c",
   "metadata": {
    "tags": []
   },
   "source": [
    "# Student Info\n",
    "\n",
    "* Name: Michael Amadi\n",
    "* Net ID: mxg9xv\n",
    "* URL of this file in GitHub:  "
   ]
  },
  {
   "cell_type": "markdown",
   "id": "2d2f61d4-9276-4791-bb30-5094f7b65a3d",
   "metadata": {},
   "source": [
    "# Data\n",
    "\n",
    "```\n",
    "Table 1: GRADES\n",
    "\n",
    "name    grade\n",
    "Jon     95\n",
    "Mike    84\n",
    "Jaime   99\n",
    "\n",
    "\n",
    "Table 2: TOUCHDOWNS\n",
    "\n",
    "name    touchdowns\n",
    "Alex    2\n",
    "Patrick 4\n",
    "Tom     1\n",
    "Joe     3\n",
    "Alex    1\n",
    "```"
   ]
  },
  {
   "cell_type": "markdown",
   "id": "4b608c21-108b-4405-ab49-f17affc88dfb",
   "metadata": {},
   "source": [
    "# Tasks"
   ]
  },
  {
   "cell_type": "markdown",
   "id": "80ae5a54-a660-4ca2-b104-758f76994498",
   "metadata": {},
   "source": [
    "## Task 1\n",
    "\n",
    "Using the data in Table 1, create a dictionary called `gradebook` where the keys contain the names and the values are the associated grades. Print the dictionary.  (1 PT) "
   ]
  },
  {
   "cell_type": "code",
   "execution_count": null,
   "id": "17975bde-933c-449d-b54e-c0fcd02c1c98",
   "metadata": {},
   "outputs": [],
   "source": []
  }
 ],
 "metadata": {
  "kernelspec": {
   "display_name": "Python 3 (ipykernel)",
   "language": "python",
   "name": "python3"
  },
  "language_info": {
   "codemirror_mode": {
    "name": "ipython",
    "version": 3
   },
   "file_extension": ".py",
   "mimetype": "text/x-python",
   "name": "python",
   "nbconvert_exporter": "python",
   "pygments_lexer": "ipython3",
   "version": "3.11.4"
  }
 },
 "nbformat": 4,
 "nbformat_minor": 5
}
