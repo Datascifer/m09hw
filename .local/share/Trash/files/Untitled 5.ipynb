{
 "cells": [
  {
   "cell_type": "code",
   "execution_count": 1,
   "id": "cc3cb9fd-9a94-4b59-88c4-68ed18889169",
   "metadata": {
    "tags": []
   },
   "outputs": [],
   "source": [
    "n =5 "
   ]
  },
  {
   "cell_type": "code",
   "execution_count": 2,
   "id": "a542bb59-7169-48d8-abeb-bf9859814c78",
   "metadata": {
    "tags": []
   },
   "outputs": [],
   "source": [
    "##| tags: []\n",
    "def factorial(x):\n",
    "    \"Finds the factorial of an integer using recursion\"\n",
    "    if x == 1: # Base condition\n",
    "        return 1 \n",
    "    else:\n",
    "        return x * factorial(x-1)"
   ]
  },
  {
   "cell_type": "code",
   "execution_count": 3,
   "id": "f1fa846b-2e31-4167-a50d-5d5061e0ab3f",
   "metadata": {
    "tags": []
   },
   "outputs": [
    {
     "name": "stdout",
     "output_type": "stream",
     "text": [
      "CPU times: user 2 µs, sys: 1 µs, total: 3 µs\n",
      "Wall time: 4.77 µs\n"
     ]
    },
    {
     "data": {
      "text/plain": [
       "120"
      ]
     },
     "execution_count": 3,
     "metadata": {},
     "output_type": "execute_result"
    }
   ],
   "source": [
    "##| tags: []\n",
    "%time factorial(n)"
   ]
  },
  {
   "cell_type": "code",
   "execution_count": 4,
   "id": "febc6af9-cd64-4464-9a50-bcc06cdb53bf",
   "metadata": {
    "tags": []
   },
   "outputs": [
    {
     "name": "stdout",
     "output_type": "stream",
     "text": [
      "CPU times: user 8 µs, sys: 0 ns, total: 8 µs\n",
      "Wall time: 10 µs\n"
     ]
    },
    {
     "data": {
      "text/plain": [
       "30414093201713378043612608166064768844377641568960512000000000000"
      ]
     },
     "execution_count": 4,
     "metadata": {},
     "output_type": "execute_result"
    }
   ],
   "source": [
    "n = 50\n",
    "%time factorial(n)"
   ]
  },
  {
   "cell_type": "code",
   "execution_count": 11,
   "id": "83dcd3b2-caba-4113-9661-3ae852628eef",
   "metadata": {
    "tags": []
   },
   "outputs": [],
   "source": [
    "x = 10\n",
    "\n",
    "def scope_func1(a):\n",
    "    out  = x + a\n",
    "    return out"
   ]
  },
  {
   "cell_type": "code",
   "execution_count": 14,
   "id": "5f06af85-01b4-4dd7-86cb-00314fa6bf05",
   "metadata": {
    "tags": []
   },
   "outputs": [],
   "source": [
    "x = 10 \n",
    "\n",
    "def scope_func1(a):\n",
    "    ''' Test\n",
    "    '''\n",
    "    out = x + a\n",
    "    return out"
   ]
  },
  {
   "cell_type": "code",
   "execution_count": 15,
   "id": "3869d93a-8137-45a5-a75e-d8d195ddeb90",
   "metadata": {
    "tags": []
   },
   "outputs": [
    {
     "name": "stdout",
     "output_type": "stream",
     "text": [
      "16\n"
     ]
    }
   ],
   "source": [
    "y = scope_func1(6)\n",
    "print(y)"
   ]
  },
  {
   "cell_type": "code",
   "execution_count": 16,
   "id": "1fe327ff-723c-437d-93e3-73d354cec5db",
   "metadata": {
    "tags": []
   },
   "outputs": [
    {
     "ename": "NameError",
     "evalue": "name 'a' is not defined",
     "output_type": "error",
     "traceback": [
      "\u001b[0;31m---------------------------------------------------------------------------\u001b[0m",
      "\u001b[0;31mNameError\u001b[0m                                 Traceback (most recent call last)",
      "Cell \u001b[0;32mIn[16], line 1\u001b[0m\n\u001b[0;32m----> 1\u001b[0m \u001b[38;5;28mprint\u001b[39m(\u001b[43ma\u001b[49m)\n",
      "\u001b[0;31mNameError\u001b[0m: name 'a' is not defined"
     ]
    }
   ],
   "source": [
    "print(a)"
   ]
  },
  {
   "cell_type": "code",
   "execution_count": 24,
   "id": "5826d846-c475-4438-bd7e-93f3fb79d8ca",
   "metadata": {
    "tags": []
   },
   "outputs": [],
   "source": [
    " x = 10 # Global\n",
    "\n",
    "def scope_func2(a):\n",
    "    \n",
    "    x = 20 # Local\n",
    "    print('x from inside:', x)\n",
    "    \n",
    "    out = x + a\n",
    "    \n",
    "    return out"
   ]
  },
  {
   "cell_type": "code",
   "execution_count": 25,
   "id": "7dda90b4-3b73-4cc0-8be5-dbc12770b910",
   "metadata": {
    "tags": []
   },
   "outputs": [
    {
     "name": "stdout",
     "output_type": "stream",
     "text": [
      "x from inside: 20\n",
      "26\n",
      "x from outside: 10\n"
     ]
    }
   ],
   "source": [
    "y = scope_func2(6)\n",
    "print(y)\n",
    "print('x from outside:', x)"
   ]
  },
  {
   "cell_type": "code",
   "execution_count": 28,
   "id": "ef325322-b85a-4bd2-a85d-f38672964597",
   "metadata": {
    "tags": []
   },
   "outputs": [],
   "source": [
    "x = 10\n",
    "\n",
    "def guess():\n",
    "    x += 10\n",
    "    print(x)"
   ]
  },
  {
   "cell_type": "code",
   "execution_count": 29,
   "id": "8788dda2-a158-457f-9815-79793745d4af",
   "metadata": {
    "tags": []
   },
   "outputs": [
    {
     "ename": "UnboundLocalError",
     "evalue": "cannot access local variable 'x' where it is not associated with a value",
     "output_type": "error",
     "traceback": [
      "\u001b[0;31m---------------------------------------------------------------------------\u001b[0m",
      "\u001b[0;31mUnboundLocalError\u001b[0m                         Traceback (most recent call last)",
      "Cell \u001b[0;32mIn[29], line 1\u001b[0m\n\u001b[0;32m----> 1\u001b[0m \u001b[43mguess\u001b[49m\u001b[43m(\u001b[49m\u001b[43m)\u001b[49m\n",
      "Cell \u001b[0;32mIn[28], line 4\u001b[0m, in \u001b[0;36mguess\u001b[0;34m()\u001b[0m\n\u001b[1;32m      3\u001b[0m \u001b[38;5;28;01mdef\u001b[39;00m \u001b[38;5;21mguess\u001b[39m():\n\u001b[0;32m----> 4\u001b[0m     \u001b[43mx\u001b[49m \u001b[38;5;241m+\u001b[39m\u001b[38;5;241m=\u001b[39m \u001b[38;5;241m10\u001b[39m\n\u001b[1;32m      5\u001b[0m     \u001b[38;5;28mprint\u001b[39m(x)\n",
      "\u001b[0;31mUnboundLocalError\u001b[0m: cannot access local variable 'x' where it is not associated with a value"
     ]
    }
   ],
   "source": [
    "guess()"
   ]
  },
  {
   "cell_type": "code",
   "execution_count": 31,
   "id": "2e42820e-58e9-4ebe-9b96-113b0851fb02",
   "metadata": {
    "tags": []
   },
   "outputs": [],
   "source": [
    "x = x + 10"
   ]
  },
  {
   "cell_type": "code",
   "execution_count": 32,
   "id": "06b4b41a-378d-4719-a2bc-64a7038893a1",
   "metadata": {
    "tags": []
   },
   "outputs": [],
   "source": [
    "#Function within Functions"
   ]
  },
  {
   "cell_type": "code",
   "execution_count": 42,
   "id": "cf432a6f-e2aa-49df-a5a0-4aa468c6f574",
   "metadata": {
    "tags": []
   },
   "outputs": [],
   "source": [
    " def f_to_c(temp):\n",
    "    \"\"\"\n",
    "    Converst F to C and returns a rounded result.\n",
    "    Expects an integer and returns an integer.\n",
    "    \"\"\"\n",
    "    return round((temp - 32) * (5/9))"
   ]
  },
  {
   "cell_type": "code",
   "execution_count": 45,
   "id": "20fea5b5-fd25-429f-8caa-623fe5ce7cd8",
   "metadata": {
    "tags": []
   },
   "outputs": [
    {
     "ename": "NameError",
     "evalue": "name 'temp' is not defined",
     "output_type": "error",
     "traceback": [
      "\u001b[0;31m---------------------------------------------------------------------------\u001b[0m",
      "\u001b[0;31mNameError\u001b[0m                                 Traceback (most recent call last)",
      "Cell \u001b[0;32mIn[45], line 1\u001b[0m\n\u001b[0;32m----> 1\u001b[0m help(f_to_c(\u001b[43mtemp\u001b[49m))\n",
      "\u001b[0;31mNameError\u001b[0m: name 'temp' is not defined"
     ]
    }
   ],
   "source": []
  }
 ],
 "metadata": {
  "kernelspec": {
   "display_name": "Python 3 (ipykernel)",
   "language": "python",
   "name": "python3"
  },
  "language_info": {
   "codemirror_mode": {
    "name": "ipython",
    "version": 3
   },
   "file_extension": ".py",
   "mimetype": "text/x-python",
   "name": "python",
   "nbconvert_exporter": "python",
   "pygments_lexer": "ipython3",
   "version": "3.11.4"
  }
 },
 "nbformat": 4,
 "nbformat_minor": 5
}
